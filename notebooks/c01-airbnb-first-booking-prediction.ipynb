{
 "cells": [
  {
   "cell_type": "markdown",
   "id": "9e7688d0",
   "metadata": {},
   "source": [
    "# 0 Imports"
   ]
  },
  {
   "cell_type": "markdown",
   "id": "04938cc4",
   "metadata": {},
   "source": [
    "## 0.1. Libraries"
   ]
  },
  {
   "cell_type": "code",
   "execution_count": 94,
   "id": "25214c20",
   "metadata": {},
   "outputs": [
    {
     "data": {
      "text/html": [
       "<style>pre { white-space: pre !important; }</style>"
      ],
      "text/plain": [
       "<IPython.core.display.HTML object>"
      ]
     },
     "metadata": {},
     "output_type": "display_data"
    }
   ],
   "source": [
    "# data manipulation\n",
    "from pyspark.sql import SparkSession\n",
    "from pyspark.sql.functions import to_timestamp, count, when\n",
    "from pyspark.sql.types import StructField, StructType, StringType, FloatType\n",
    "\n",
    "# other\n",
    "from IPython.core.display import HTML\n",
    "display(HTML(\"<style>pre { white-space: pre !important; }</style>\"))"
   ]
  },
  {
   "cell_type": "markdown",
   "id": "c45027d5",
   "metadata": {},
   "source": [
    "## 0.2. Helper functions"
   ]
  },
  {
   "cell_type": "markdown",
   "id": "a34671f8",
   "metadata": {},
   "source": [
    "## 0.3. Data acquisition\n",
    "Data source: [Kaggle](https://www.kaggle.com/competitions/airbnb-recruiting-new-user-bookings)"
   ]
  },
  {
   "cell_type": "code",
   "execution_count": 3,
   "id": "4709e294",
   "metadata": {},
   "outputs": [
    {
     "name": "stderr",
     "output_type": "stream",
     "text": [
      "22/05/18 16:23:22 WARN Utils: Your hostname, archlinux resolves to a loopback address: 127.0.1.1; using 192.168.0.12 instead (on interface enp3s0)\n",
      "22/05/18 16:23:22 WARN Utils: Set SPARK_LOCAL_IP if you need to bind to another address\n",
      "WARNING: An illegal reflective access operation has occurred\n",
      "WARNING: Illegal reflective access by org.apache.spark.unsafe.Platform (file:/home/qwoek/spark/spark-3.2.1-bin-hadoop3.2/jars/spark-unsafe_2.12-3.2.1.jar) to constructor java.nio.DirectByteBuffer(long,int)\n",
      "WARNING: Please consider reporting this to the maintainers of org.apache.spark.unsafe.Platform\n",
      "WARNING: Use --illegal-access=warn to enable warnings of further illegal reflective access operations\n",
      "WARNING: All illegal access operations will be denied in a future release\n",
      "Using Spark's default log4j profile: org/apache/spark/log4j-defaults.properties\n",
      "Setting default log level to \"WARN\".\n",
      "To adjust logging level use sc.setLogLevel(newLevel). For SparkR, use setLogLevel(newLevel).\n",
      "22/05/18 16:23:22 WARN NativeCodeLoader: Unable to load native-hadoop library for your platform... using builtin-java classes where applicable\n",
      "22/05/18 16:23:23 WARN Utils: Service 'SparkUI' could not bind on port 4040. Attempting port 4041.\n"
     ]
    }
   ],
   "source": [
    "# instantiate spark session object\n",
    "spark = SparkSession.builder \\\n",
    "                    .master('local[*]') \\\n",
    "                    .config(\"spark.submit.deployMode\", 'client') \\\n",
    "                    .config('spark.executor.instances', \"16\") \\\n",
    "                    .config('spark.driver.memory', '6g') \\\n",
    "                    .config('spark.executor.memory', \"6g\") \\\n",
    "                    .config('spark.executor.memoryOverhead', '6g') \\\n",
    "                    .appName('airbnb-first-booking-prediction') \\\n",
    "                    .getOrCreate()"
   ]
  },
  {
   "cell_type": "code",
   "execution_count": 17,
   "id": "81c3d9c9",
   "metadata": {},
   "outputs": [
    {
     "name": "stdout",
     "output_type": "stream",
     "text": [
      "total 634M\r\n",
      "-rw-r--r-- 1 qwoek qwoek  12K Oct 16  2015 age_gender_bkts.csv\r\n",
      "-rw-r--r-- 1 qwoek qwoek  632 Oct 16  2015 countries.csv\r\n",
      "-rw-r--r-- 1 qwoek qwoek 910K Dec  6  2015 sample_submission_NDF.csv\r\n",
      "-rw-r--r-- 1 qwoek qwoek 603M Dec  6  2015 sessions.csv\r\n",
      "-rw-r--r-- 1 qwoek qwoek 6.5M May 16  2018 test_users.csv\r\n",
      "-rw-r--r-- 1 qwoek qwoek  24M Dec 10  2015 train_users_2.csv\r\n"
     ]
    }
   ],
   "source": [
    "!ls -lh ../data/raw"
   ]
  },
  {
   "cell_type": "code",
   "execution_count": 18,
   "id": "315dc07c",
   "metadata": {},
   "outputs": [
    {
     "name": "stdout",
     "output_type": "stream",
     "text": [
      "id,date_account_created,timestamp_first_active,date_first_booking,gender,age,signup_method,signup_flow,language,affiliate_channel,affiliate_provider,first_affiliate_tracked,signup_app,first_device_type,first_browser,country_destination\r\n",
      "gxn3p5htnn,2010-06-28,20090319043255,,-unknown-,,facebook,0,en,direct,direct,untracked,Web,Mac Desktop,Chrome,NDF\r\n",
      "820tgsjxq7,2011-05-25,20090523174809,,MALE,38.0,facebook,0,en,seo,google,untracked,Web,Mac Desktop,Chrome,NDF\r\n",
      "4ft3gnwmtx,2010-09-28,20090609231247,2010-08-02,FEMALE,56.0,basic,3,en,direct,direct,untracked,Web,Windows Desktop,IE,US\r\n",
      "bjjt8pjhuk,2011-12-05,20091031060129,2012-09-08,FEMALE,42.0,facebook,0,en,direct,direct,untracked,Web,Mac Desktop,Firefox,other\r\n",
      "87mebub9p4,2010-09-14,20091208061105,2010-02-18,-unknown-,41.0,basic,0,en,direct,direct,untracked,Web,Mac Desktop,Chrome,US\r\n",
      "osr2jwljor,2010-01-01,20100101215619,2010-01-02,-unknown-,,basic,0,en,other,other,omg,Web,Mac Desktop,Chrome,US\r\n",
      "lsw9q7uk0j,2010-01-02,20100102012558,2010-01-05,FEMALE,46.0,basic,0,en,other,craigslist,untracked,Web,Mac Desktop,Safari,US\r\n",
      "0d01nltbrs,2010-01-03,20100103191905,2010-01-13,FEMALE,47.0,basic,0,en,direct,direct,omg,Web,Mac Desktop,Safari,US\r\n",
      "a1vcnhxeij,2010-01-04,20100104004211,2010-07-29,FEMALE,50.0,basic,0,en,other,craigslist,untracked,Web,Mac Desktop,Safari,US\r\n"
     ]
    }
   ],
   "source": [
    "!head -n 10 ../data/raw/train_users_2.csv"
   ]
  },
  {
   "cell_type": "code",
   "execution_count": 57,
   "id": "2e307e90",
   "metadata": {},
   "outputs": [
    {
     "data": {
      "text/plain": [
       "[Row(id='gxn3p5htnn', date_account_created=datetime.datetime(2010, 6, 28, 0, 0), timestamp_first_active=datetime.datetime(2009, 3, 19, 4, 32, 55), date_first_booking=None, gender='-unknown-', age=None, signup_method='facebook', signup_flow='0', language='en', affiliate_channel='direct', affiliate_provider='direct', first_affiliate_tracked='untracked', signup_app='Web', first_device_type='Mac Desktop', first_browser='Chrome', country_destination='NDF'),\n",
       " Row(id='820tgsjxq7', date_account_created=datetime.datetime(2011, 5, 25, 0, 0), timestamp_first_active=datetime.datetime(2009, 5, 23, 17, 48, 9), date_first_booking=None, gender='MALE', age=None, signup_method='facebook', signup_flow='0', language='en', affiliate_channel='seo', affiliate_provider='google', first_affiliate_tracked='untracked', signup_app='Web', first_device_type='Mac Desktop', first_browser='Chrome', country_destination='NDF'),\n",
       " Row(id='4ft3gnwmtx', date_account_created=datetime.datetime(2010, 9, 28, 0, 0), timestamp_first_active=datetime.datetime(2009, 6, 9, 23, 12, 47), date_first_booking=datetime.datetime(2010, 8, 2, 0, 0), gender='FEMALE', age=None, signup_method='basic', signup_flow='3', language='en', affiliate_channel='direct', affiliate_provider='direct', first_affiliate_tracked='untracked', signup_app='Web', first_device_type='Windows Desktop', first_browser='IE', country_destination='US'),\n",
       " Row(id='bjjt8pjhuk', date_account_created=datetime.datetime(2011, 12, 5, 0, 0), timestamp_first_active=datetime.datetime(2009, 10, 31, 6, 1, 29), date_first_booking=datetime.datetime(2012, 9, 8, 0, 0), gender='FEMALE', age=None, signup_method='facebook', signup_flow='0', language='en', affiliate_channel='direct', affiliate_provider='direct', first_affiliate_tracked='untracked', signup_app='Web', first_device_type='Mac Desktop', first_browser='Firefox', country_destination='other'),\n",
       " Row(id='87mebub9p4', date_account_created=datetime.datetime(2010, 9, 14, 0, 0), timestamp_first_active=datetime.datetime(2009, 12, 8, 6, 11, 5), date_first_booking=datetime.datetime(2010, 2, 18, 0, 0), gender='-unknown-', age=None, signup_method='basic', signup_flow='0', language='en', affiliate_channel='direct', affiliate_provider='direct', first_affiliate_tracked='untracked', signup_app='Web', first_device_type='Mac Desktop', first_browser='Chrome', country_destination='US')]"
      ]
     },
     "execution_count": 57,
     "metadata": {},
     "output_type": "execute_result"
    }
   ],
   "source": [
    "# define dataset schema\n",
    "schema_df_train = '''\n",
    "    id STRING,\n",
    "    date_account_created TIMESTAMP,\n",
    "    timestamp_first_active STRING,\n",
    "    date_first_booking STRING,\n",
    "    gender STRING,\n",
    "    age INTEGER,\n",
    "    signup_method STRING,\n",
    "    signup_flow STRING,\n",
    "    language STRING,\n",
    "    affiliate_channel STRING,\n",
    "    affiliate_provider STRING,\n",
    "    first_affiliate_tracked STRING,\n",
    "    signup_app STRING,\n",
    "    first_device_type STRING,\n",
    "    first_browser STRING,\n",
    "    country_destination STRING\n",
    "'''\n",
    "\n",
    "# read dataset\n",
    "df_train = spark.read.csv(path='../data/raw/train_users_2.csv', schema=schema_df_train, header=True)\n",
    "\n",
    "# format date columns\n",
    "df_train = df_train.withColumn('timestamp_first_active', to_timestamp('timestamp_first_active', 'yyyyMMddHHmmss'))\n",
    "df_train = df_train.withColumn('date_first_booking', to_timestamp('date_first_booking', 'yyyy-MM-dd'))\n",
    "\n",
    "# check it out\n",
    "df_train.take(5)"
   ]
  },
  {
   "cell_type": "code",
   "execution_count": 59,
   "id": "fcbbc65b",
   "metadata": {},
   "outputs": [
    {
     "name": "stdout",
     "output_type": "stream",
     "text": [
      "user_id,action,action_type,action_detail,device_type,secs_elapsed\r\n",
      "d1mm9tcy42,lookup,,,Windows Desktop,319.0\r\n",
      "d1mm9tcy42,search_results,click,view_search_results,Windows Desktop,67753.0\r\n",
      "d1mm9tcy42,lookup,,,Windows Desktop,301.0\r\n",
      "d1mm9tcy42,search_results,click,view_search_results,Windows Desktop,22141.0\r\n",
      "d1mm9tcy42,lookup,,,Windows Desktop,435.0\r\n",
      "d1mm9tcy42,search_results,click,view_search_results,Windows Desktop,7703.0\r\n",
      "d1mm9tcy42,lookup,,,Windows Desktop,115.0\r\n",
      "d1mm9tcy42,personalize,data,wishlist_content_update,Windows Desktop,831.0\r\n",
      "d1mm9tcy42,index,view,view_search_results,Windows Desktop,20842.0\r\n"
     ]
    }
   ],
   "source": [
    "!head -n 10 ../data/raw/sessions.csv"
   ]
  },
  {
   "cell_type": "code",
   "execution_count": 63,
   "id": "8e2100f8",
   "metadata": {},
   "outputs": [
    {
     "data": {
      "text/plain": [
       "[Row(user_id='d1mm9tcy42', action='lookup', action_type=None, action_detail=None, device_type='Windows Desktop', secs_elapsed=319.0),\n",
       " Row(user_id='d1mm9tcy42', action='search_results', action_type='click', action_detail='view_search_results', device_type='Windows Desktop', secs_elapsed=67753.0),\n",
       " Row(user_id='d1mm9tcy42', action='lookup', action_type=None, action_detail=None, device_type='Windows Desktop', secs_elapsed=301.0),\n",
       " Row(user_id='d1mm9tcy42', action='search_results', action_type='click', action_detail='view_search_results', device_type='Windows Desktop', secs_elapsed=22141.0),\n",
       " Row(user_id='d1mm9tcy42', action='lookup', action_type=None, action_detail=None, device_type='Windows Desktop', secs_elapsed=435.0)]"
      ]
     },
     "execution_count": 63,
     "metadata": {},
     "output_type": "execute_result"
    }
   ],
   "source": [
    "# define dataset schema\n",
    "schema_df_sessions = StructType([\n",
    "  StructField('user_id', StringType(), True),\n",
    "  StructField('action', StringType(), True),\n",
    "  StructField('action_type', StringType(), True),\n",
    "  StructField('action_detail', StringType(), True),\n",
    "  StructField('device_type', StringType(), True),\n",
    "  StructField('secs_elapsed', FloatType(), True)\n",
    "])\n",
    "\n",
    "# read dataset\n",
    "df_sessions = spark.read.csv(path='../data/raw/sessions.csv', schema=schema_df_sessions, header=True)\n",
    "\n",
    "# check it out\n",
    "df_sessions.take(5)"
   ]
  },
  {
   "cell_type": "code",
   "execution_count": 70,
   "id": "d97c4996",
   "metadata": {},
   "outputs": [
    {
     "name": "stderr",
     "output_type": "stream",
     "text": [
      "                                                                                \r"
     ]
    },
    {
     "data": {
      "text/plain": [
       "[Row(id='00b9hfwaak', date_account_created=datetime.datetime(2014, 6, 5, 0, 0), timestamp_first_active=datetime.datetime(2014, 6, 5, 16, 38, 16), date_first_booking=datetime.datetime(2014, 6, 5, 0, 0), gender='-unknown-', age=None, signup_method='basic', signup_flow='0', language='zh', affiliate_channel='seo', affiliate_provider='google', first_affiliate_tracked='linked', signup_app='Web', first_device_type='Windows Desktop', first_browser='Chrome', country_destination='US', action='show', action_type=None, action_detail=None, device_type='Windows Desktop', secs_elapsed=64.0),\n",
       " Row(id='00b9hfwaak', date_account_created=datetime.datetime(2014, 6, 5, 0, 0), timestamp_first_active=datetime.datetime(2014, 6, 5, 16, 38, 16), date_first_booking=datetime.datetime(2014, 6, 5, 0, 0), gender='-unknown-', age=None, signup_method='basic', signup_flow='0', language='zh', affiliate_channel='seo', affiliate_provider='google', first_affiliate_tracked='linked', signup_app='Web', first_device_type='Windows Desktop', first_browser='Chrome', country_destination='US', action='similar_listings', action_type='data', action_detail='similar_listings', device_type='Windows Desktop', secs_elapsed=15.0),\n",
       " Row(id='00b9hfwaak', date_account_created=datetime.datetime(2014, 6, 5, 0, 0), timestamp_first_active=datetime.datetime(2014, 6, 5, 16, 38, 16), date_first_booking=datetime.datetime(2014, 6, 5, 0, 0), gender='-unknown-', age=None, signup_method='basic', signup_flow='0', language='zh', affiliate_channel='seo', affiliate_provider='google', first_affiliate_tracked='linked', signup_app='Web', first_device_type='Windows Desktop', first_browser='Chrome', country_destination='US', action='ajax_refresh_subtotal', action_type='click', action_detail='change_trip_characteristics', device_type='Windows Desktop', secs_elapsed=448.0)]"
      ]
     },
     "execution_count": 70,
     "metadata": {},
     "output_type": "execute_result"
    }
   ],
   "source": [
    "# join datasets\n",
    "df = df_train.join(df_sessions, on=[df_train.id == df_sessions.user_id], how='inner')\n",
    "\n",
    "# drop repetead column\n",
    "df = df.drop('user_id')\n",
    "\n",
    "# check it out\n",
    "df.take(3)"
   ]
  },
  {
   "cell_type": "code",
   "execution_count": 71,
   "id": "b6920c50",
   "metadata": {},
   "outputs": [
    {
     "name": "stdout",
     "output_type": "stream",
     "text": [
      "root\n",
      " |-- id: string (nullable = true)\n",
      " |-- date_account_created: timestamp (nullable = true)\n",
      " |-- timestamp_first_active: timestamp (nullable = true)\n",
      " |-- date_first_booking: timestamp (nullable = true)\n",
      " |-- gender: string (nullable = true)\n",
      " |-- age: integer (nullable = true)\n",
      " |-- signup_method: string (nullable = true)\n",
      " |-- signup_flow: string (nullable = true)\n",
      " |-- language: string (nullable = true)\n",
      " |-- affiliate_channel: string (nullable = true)\n",
      " |-- affiliate_provider: string (nullable = true)\n",
      " |-- first_affiliate_tracked: string (nullable = true)\n",
      " |-- signup_app: string (nullable = true)\n",
      " |-- first_device_type: string (nullable = true)\n",
      " |-- first_browser: string (nullable = true)\n",
      " |-- country_destination: string (nullable = true)\n",
      " |-- action: string (nullable = true)\n",
      " |-- action_type: string (nullable = true)\n",
      " |-- action_detail: string (nullable = true)\n",
      " |-- device_type: string (nullable = true)\n",
      " |-- secs_elapsed: float (nullable = true)\n",
      "\n"
     ]
    }
   ],
   "source": [
    "df.printSchema()"
   ]
  },
  {
   "cell_type": "code",
   "execution_count": 72,
   "id": "fe4c10ec",
   "metadata": {},
   "outputs": [
    {
     "name": "stderr",
     "output_type": "stream",
     "text": [
      "                                                                                \r"
     ]
    },
    {
     "name": "stdout",
     "output_type": "stream",
     "text": [
      "18\r\n"
     ]
    }
   ],
   "source": [
    "# split dataset into 16 pieces to leverage spark's engine\n",
    "df.repartition(16).write.parquet('../data/interim/')\n",
    "\n",
    "# check it out\n",
    "!ls -lx  ../data/interim | wc -l"
   ]
  },
  {
   "cell_type": "code",
   "execution_count": 83,
   "id": "04b11b32",
   "metadata": {},
   "outputs": [
    {
     "data": {
      "text/plain": [
       "[Row(id='9tfyeib61i', date_account_created=datetime.datetime(2014, 2, 21, 0, 0), timestamp_first_active=datetime.datetime(2014, 2, 21, 3, 54, 46), date_first_booking=None, gender='FEMALE', age=None, signup_method='facebook', signup_flow='0', language='en', affiliate_channel='sem-brand', affiliate_provider='google', first_affiliate_tracked='tracked-other', signup_app='Web', first_device_type='iPad', first_browser='Mobile Safari', country_destination='NDF', action='lookup', action_type=None, action_detail=None, device_type='Mac Desktop', secs_elapsed=616.0),\n",
       " Row(id='2yhxvwn42t', date_account_created=datetime.datetime(2014, 3, 29, 0, 0), timestamp_first_active=datetime.datetime(2014, 3, 29, 17, 57, 26), date_first_booking=None, gender='-unknown-', age=None, signup_method='basic', signup_flow='0', language='en', affiliate_channel='sem-non-brand', affiliate_provider='google', first_affiliate_tracked='omg', signup_app='Web', first_device_type='Mac Desktop', first_browser='Safari', country_destination='NDF', action='show', action_type='view', action_detail='p3', device_type='Mac Desktop', secs_elapsed=9260.0),\n",
       " Row(id='bmq4upfg9o', date_account_created=datetime.datetime(2014, 6, 30, 0, 0), timestamp_first_active=datetime.datetime(2014, 6, 30, 3, 31, 32), date_first_booking=datetime.datetime(2014, 6, 30, 0, 0), gender='MALE', age=None, signup_method='basic', signup_flow='0', language='en', affiliate_channel='sem-brand', affiliate_provider='google', first_affiliate_tracked='omg', signup_app='Web', first_device_type='Windows Desktop', first_browser='Chrome', country_destination='IT', action='edit', action_type='view', action_detail='edit_profile', device_type='Windows Desktop', secs_elapsed=6490.0)]"
      ]
     },
     "execution_count": 83,
     "metadata": {},
     "output_type": "execute_result"
    }
   ],
   "source": [
    "# read splited data\n",
    "df = spark.read.parquet('../data/interim')\n",
    "\n",
    "# check it out\n",
    "df.take(3)"
   ]
  },
  {
   "cell_type": "markdown",
   "id": "c2c85c60",
   "metadata": {},
   "source": [
    "# 1. Data cleansing and description"
   ]
  },
  {
   "cell_type": "markdown",
   "id": "c43a78d0",
   "metadata": {},
   "source": [
    "## Index"
   ]
  },
  {
   "cell_type": "markdown",
   "id": "4955b901",
   "metadata": {},
   "source": [
    "Column | Meaning\n",
    "---|--------\n",
    "id | user id\n",
    "date_account_created | the date of account creation\n",
    "timestamp_first_active | timestamp of the first activity, note that it can be earlier than date_account_created or date_first_booking because a user can search before signing up\n",
    "date_first_booking | date of first booking\n",
    "gender |\n",
    "age |\n",
    "signup_method |\n",
    "signup_flow | the page a user came to signup up from\n",
    "language | international language preference\n",
    "affiliate_channel | what kind of paid marketing\n",
    "affiliate_provider | where the marketing is e.g. google, craigslist, other\n",
    "first_affiliate_tracked | whats the first marketing the user interacted with before the signing up\n",
    "signup_app |\n",
    "first_device_type |\n",
    "first_browser |\n",
    "country_destination | this is the target variable you are to predict\n",
    "action |\n",
    "action_type |\n",
    "action_detail |\n",
    "device_type |\n",
    "secs_elapsed |"
   ]
  },
  {
   "cell_type": "markdown",
   "id": "db8f2ca5",
   "metadata": {},
   "source": [
    "## 1.1. Data dimensions"
   ]
  },
  {
   "cell_type": "code",
   "execution_count": 85,
   "id": "eed57be8",
   "metadata": {},
   "outputs": [
    {
     "name": "stdout",
     "output_type": "stream",
     "text": [
      "Number of rows: 5537957\n",
      "Number of columns: 21\n"
     ]
    }
   ],
   "source": [
    "print(f'Number of rows: {df.count()}\\nNumber of columns: {len(df.columns)}')"
   ]
  },
  {
   "cell_type": "markdown",
   "id": "0ecb5f4a",
   "metadata": {},
   "source": [
    "## 1.2. Duplicate data"
   ]
  },
  {
   "cell_type": "code",
   "execution_count": 86,
   "id": "7ea6f652",
   "metadata": {},
   "outputs": [
    {
     "name": "stderr",
     "output_type": "stream",
     "text": [
      "[Stage 68:====================================================>   (16 + 1) / 17]\r"
     ]
    },
    {
     "name": "stdout",
     "output_type": "stream",
     "text": [
      "There were 149501 duplicate records.\n"
     ]
    },
    {
     "name": "stderr",
     "output_type": "stream",
     "text": [
      "\r",
      "                                                                                \r"
     ]
    }
   ],
   "source": [
    "if df.count() > df.dropDuplicates().count():\n",
    "    print(f'There were {df.count() - df.dropDuplicates().count()} duplicate records.')\n",
    "    df = df.dropDuplicates()\n",
    "else:\n",
    "    print('There is not duplicate data.')"
   ]
  },
  {
   "cell_type": "markdown",
   "id": "9fd3aedd",
   "metadata": {},
   "source": [
    "## 1.3. Missing data"
   ]
  },
  {
   "cell_type": "code",
   "execution_count": 95,
   "id": "b6b4d9da",
   "metadata": {},
   "outputs": [
    {
     "name": "stderr",
     "output_type": "stream",
     "text": [
      "[Stage 86:=========>                                              (3 + 14) / 17]\r"
     ]
    },
    {
     "name": "stdout",
     "output_type": "stream",
     "text": [
      "+---+--------------------+----------------------+------------------+------+-------+-------------+-----------+--------+-----------------+------------------+-----------------------+----------+-----------------+-------------+-------------------+------+-----------+-------------+-----------+------------+\n",
      "| id|date_account_created|timestamp_first_active|date_first_booking|gender|    age|signup_method|signup_flow|language|affiliate_channel|affiliate_provider|first_affiliate_tracked|signup_app|first_device_type|first_browser|country_destination|action|action_type|action_detail|device_type|secs_elapsed|\n",
      "+---+--------------------+----------------------+------------------+------+-------+-------------+-----------+--------+-----------------+------------------+-----------------------+----------+-----------------+-------------+-------------------+------+-----------+-------------+-----------+------------+\n",
      "|  0|                   0|                     0|           2976349|     0|5388456|            0|          0|       0|                0|                 0|                   1331|         0|                0|            0|                  0| 51294|     587088|       587088|          0|       73815|\n",
      "+---+--------------------+----------------------+------------------+------+-------+-------------+-----------+--------+-----------------+------------------+-----------------------+----------+-----------------+-------------+-------------------+------+-----------+-------------+-----------+------------+\n",
      "\n"
     ]
    },
    {
     "name": "stderr",
     "output_type": "stream",
     "text": [
      "\r",
      "[Stage 86:=======================================>                (12 + 5) / 17]\r",
      "\r",
      "                                                                                \r"
     ]
    }
   ],
   "source": [
    "# check if there is null values\n",
    "df.select([count(when(df[x].isNull(), x)).alias(x) for x in df.columns]).show()"
   ]
  },
  {
   "cell_type": "code",
   "execution_count": null,
   "id": "70d5c8e2",
   "metadata": {},
   "outputs": [],
   "source": [
    "# date_first_booking 2_976_349\n",
    "# age 5_388_456"
   ]
  },
  {
   "cell_type": "markdown",
   "id": "1c229cb4",
   "metadata": {},
   "source": [
    "## 1.4. Outliers"
   ]
  },
  {
   "cell_type": "code",
   "execution_count": null,
   "id": "f207dbbd",
   "metadata": {},
   "outputs": [],
   "source": []
  },
  {
   "cell_type": "markdown",
   "id": "b467017d",
   "metadata": {},
   "source": [
    "## 1.5. Imbalance"
   ]
  },
  {
   "cell_type": "code",
   "execution_count": null,
   "id": "abdd1055",
   "metadata": {},
   "outputs": [],
   "source": []
  },
  {
   "cell_type": "markdown",
   "id": "81cdfad8",
   "metadata": {},
   "source": [
    "## 1.6. Descriptive statistics"
   ]
  },
  {
   "cell_type": "code",
   "execution_count": null,
   "id": "2ded023c",
   "metadata": {},
   "outputs": [],
   "source": []
  },
  {
   "cell_type": "markdown",
   "id": "74d62f3a",
   "metadata": {},
   "source": [
    "### 1.6.1. Numerical attributes"
   ]
  },
  {
   "cell_type": "code",
   "execution_count": null,
   "id": "a659613d",
   "metadata": {},
   "outputs": [],
   "source": []
  },
  {
   "cell_type": "markdown",
   "id": "e30dcca7",
   "metadata": {},
   "source": [
    "### 1.6.2. Categorical attributes"
   ]
  },
  {
   "cell_type": "code",
   "execution_count": null,
   "id": "0483a894",
   "metadata": {},
   "outputs": [],
   "source": []
  }
 ],
 "metadata": {
  "kernelspec": {
   "display_name": "Python 3 (ipykernel)",
   "language": "python",
   "name": "python3"
  },
  "language_info": {
   "codemirror_mode": {
    "name": "ipython",
    "version": 3
   },
   "file_extension": ".py",
   "mimetype": "text/x-python",
   "name": "python",
   "nbconvert_exporter": "python",
   "pygments_lexer": "ipython3",
   "version": "3.10.4"
  }
 },
 "nbformat": 4,
 "nbformat_minor": 5
}
