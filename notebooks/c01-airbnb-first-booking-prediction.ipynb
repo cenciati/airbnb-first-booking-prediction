{
 "cells": [
  {
   "cell_type": "markdown",
   "id": "9e7688d0",
   "metadata": {},
   "source": [
    "# 0 Imports"
   ]
  },
  {
   "cell_type": "markdown",
   "id": "04938cc4",
   "metadata": {},
   "source": [
    "## 0.1. Libraries"
   ]
  },
  {
   "cell_type": "code",
   "execution_count": 47,
   "id": "25214c20",
   "metadata": {},
   "outputs": [
    {
     "data": {
      "text/html": [
       "<style>pre { white-space: pre !important; }</style>"
      ],
      "text/plain": [
       "<IPython.core.display.HTML object>"
      ]
     },
     "metadata": {},
     "output_type": "display_data"
    }
   ],
   "source": [
    "# data manipulation\n",
    "import pyspark\n",
    "from pyspark.sql import SparkSession\n",
    "from pyspark.sql.functions import (to_timestamp, count, when, max, col, round, kurtosis, skewness,\n",
    "                                   date_format, weekofyear, dayofweek)\n",
    "from pyspark.sql.types import StructField, StructType, StringType, IntegerType, FloatType\n",
    "\n",
    "# data visualization\n",
    "from matplotlib import pyplot as plt\n",
    "import seaborn as sns\n",
    "\n",
    "# other\n",
    "from typing import Dict\n",
    "import os\n",
    "from IPython.display import Image\n",
    "from IPython.core.display import HTML\n",
    "display(HTML(\"<style>pre { white-space: pre !important; }</style>\"))"
   ]
  },
  {
   "cell_type": "markdown",
   "id": "c45027d5",
   "metadata": {},
   "source": [
    "## 0.2. Helper functions"
   ]
  },
  {
   "cell_type": "code",
   "execution_count": 2,
   "id": "aacb4f66",
   "metadata": {},
   "outputs": [],
   "source": [
    "def calculate_bounds(df: pyspark.sql.dataframe.DataFrame) -> Dict[str, Dict[str, float]]:\n",
    "    '''Calculate bounds for numerical columns in a dataframe.\n",
    "    \n",
    "    Parameters\n",
    "    ----------\n",
    "    df : pyspark DataFrame\n",
    "       DataFrame to perform the operations.\n",
    "    \n",
    "    Returns\n",
    "    ----------\n",
    "    A dictionary containing the first and third quantiles and the lower and upper bounds of each column.\n",
    "    '''\n",
    "    # calculate quantiles\n",
    "    bounds = {col: dict(zip(['q25', 'q75'], df.approxQuantile(col, [0.25, 0.75], 0)))\n",
    "              for col, dt in zip(df.columns, df.dtypes) if dt[1] == 'float'}\n",
    "    \n",
    "    for col in bounds:\n",
    "        # calculate the interquantile\n",
    "        iqr = bounds[col]['q75'] - bounds[col]['q25']\n",
    "        \n",
    "        # calculate the cut off\n",
    "        cut_off = iqr * 1.5\n",
    "        \n",
    "        # calculate the minimum and maximum bound\n",
    "        bounds[col]['lower'] = bounds[col]['q25'] - cut_off\n",
    "        bounds[col]['upper'] = bounds[col]['q75'] + cut_off\n",
    "\n",
    "    return bounds"
   ]
  },
  {
   "cell_type": "markdown",
   "id": "a34671f8",
   "metadata": {},
   "source": [
    "## 0.3. Data acquisition\n",
    "Data source: [Kaggle](https://www.kaggle.com/competitions/airbnb-recruiting-new-user-bookings)"
   ]
  },
  {
   "cell_type": "code",
   "execution_count": 3,
   "id": "4709e294",
   "metadata": {},
   "outputs": [
    {
     "name": "stderr",
     "output_type": "stream",
     "text": [
      "22/05/30 08:45:23 WARN Utils: Your hostname, archlinux resolves to a loopback address: 127.0.1.1; using 192.168.0.21 instead (on interface enp3s0)\n",
      "22/05/30 08:45:23 WARN Utils: Set SPARK_LOCAL_IP if you need to bind to another address\n",
      "WARNING: An illegal reflective access operation has occurred\n",
      "WARNING: Illegal reflective access by org.apache.spark.unsafe.Platform (file:/home/qwoek/spark/spark-3.2.1-bin-hadoop3.2/jars/spark-unsafe_2.12-3.2.1.jar) to constructor java.nio.DirectByteBuffer(long,int)\n",
      "WARNING: Please consider reporting this to the maintainers of org.apache.spark.unsafe.Platform\n",
      "WARNING: Use --illegal-access=warn to enable warnings of further illegal reflective access operations\n",
      "WARNING: All illegal access operations will be denied in a future release\n",
      "Using Spark's default log4j profile: org/apache/spark/log4j-defaults.properties\n",
      "Setting default log level to \"WARN\".\n",
      "To adjust logging level use sc.setLogLevel(newLevel). For SparkR, use setLogLevel(newLevel).\n",
      "22/05/30 08:45:24 WARN NativeCodeLoader: Unable to load native-hadoop library for your platform... using builtin-java classes where applicable\n"
     ]
    }
   ],
   "source": [
    "MAX_MEMORY = '6g'\n",
    "\n",
    "# instantiate spark session object\n",
    "spark = SparkSession.builder \\\n",
    "                    .master('local[*]') \\\n",
    "                    .config(\"spark.submit.deployMode\", 'client') \\\n",
    "                    .config('spark.executor.instances', '16') \\\n",
    "                    .config('spark.driver.memory', MAX_MEMORY) \\\n",
    "                    .config('spark.executor.memory', MAX_MEMORY) \\\n",
    "                    .config('spark.executor.memoryOverhead', MAX_MEMORY) \\\n",
    "                    .appName('airbnb-first-booking-prediction') \\\n",
    "                    .getOrCreate()"
   ]
  },
  {
   "cell_type": "code",
   "execution_count": 4,
   "id": "81c3d9c9",
   "metadata": {},
   "outputs": [
    {
     "name": "stdout",
     "output_type": "stream",
     "text": [
      "total 633M\r\n",
      "-rw-r--r-- 1 qwoek qwoek  12K Oct 16  2015 age_gender_bkts.csv\r\n",
      "-rw-r--r-- 1 qwoek qwoek  632 Oct 16  2015 countries.csv\r\n",
      "-rw-r--r-- 1 qwoek qwoek 603M Dec  6  2015 sessions.csv\r\n",
      "-rw-r--r-- 1 qwoek qwoek 6.5M May 16  2018 test_users.csv\r\n",
      "-rw-r--r-- 1 qwoek qwoek  24M Dec 10  2015 train_users_2.csv\r\n"
     ]
    }
   ],
   "source": [
    "!ls -lh ../data/raw"
   ]
  },
  {
   "cell_type": "code",
   "execution_count": 5,
   "id": "315dc07c",
   "metadata": {},
   "outputs": [
    {
     "name": "stdout",
     "output_type": "stream",
     "text": [
      "id,date_account_created,timestamp_first_active,date_first_booking,gender,age,signup_method,signup_flow,language,affiliate_channel,affiliate_provider,first_affiliate_tracked,signup_app,first_device_type,first_browser,country_destination\r\n",
      "gxn3p5htnn,2010-06-28,20090319043255,,-unknown-,,facebook,0,en,direct,direct,untracked,Web,Mac Desktop,Chrome,NDF\r\n",
      "820tgsjxq7,2011-05-25,20090523174809,,MALE,38.0,facebook,0,en,seo,google,untracked,Web,Mac Desktop,Chrome,NDF\r\n",
      "4ft3gnwmtx,2010-09-28,20090609231247,2010-08-02,FEMALE,56.0,basic,3,en,direct,direct,untracked,Web,Windows Desktop,IE,US\r\n",
      "bjjt8pjhuk,2011-12-05,20091031060129,2012-09-08,FEMALE,42.0,facebook,0,en,direct,direct,untracked,Web,Mac Desktop,Firefox,other\r\n",
      "87mebub9p4,2010-09-14,20091208061105,2010-02-18,-unknown-,41.0,basic,0,en,direct,direct,untracked,Web,Mac Desktop,Chrome,US\r\n",
      "osr2jwljor,2010-01-01,20100101215619,2010-01-02,-unknown-,,basic,0,en,other,other,omg,Web,Mac Desktop,Chrome,US\r\n",
      "lsw9q7uk0j,2010-01-02,20100102012558,2010-01-05,FEMALE,46.0,basic,0,en,other,craigslist,untracked,Web,Mac Desktop,Safari,US\r\n",
      "0d01nltbrs,2010-01-03,20100103191905,2010-01-13,FEMALE,47.0,basic,0,en,direct,direct,omg,Web,Mac Desktop,Safari,US\r\n",
      "a1vcnhxeij,2010-01-04,20100104004211,2010-07-29,FEMALE,50.0,basic,0,en,other,craigslist,untracked,Web,Mac Desktop,Safari,US\r\n"
     ]
    }
   ],
   "source": [
    "!head -n 10 ../data/raw/train_users_2.csv"
   ]
  },
  {
   "cell_type": "code",
   "execution_count": 6,
   "id": "2e307e90",
   "metadata": {},
   "outputs": [
    {
     "name": "stdout",
     "output_type": "stream",
     "text": [
      "+----------+--------------------+----------------------+-------------------+---------+----+-------------+-----------+--------+-----------------+------------------+-----------------------+----------+-----------------+-------------+-------------------+\n",
      "|        id|date_account_created|timestamp_first_active| date_first_booking|   gender| age|signup_method|signup_flow|language|affiliate_channel|affiliate_provider|first_affiliate_tracked|signup_app|first_device_type|first_browser|country_destination|\n",
      "+----------+--------------------+----------------------+-------------------+---------+----+-------------+-----------+--------+-----------------+------------------+-----------------------+----------+-----------------+-------------+-------------------+\n",
      "|gxn3p5htnn| 2010-06-28 00:00:00|   2009-03-19 04:32:55|               null|-unknown-|null|     facebook|          0|      en|           direct|            direct|              untracked|       Web|      Mac Desktop|       Chrome|                NDF|\n",
      "|820tgsjxq7| 2011-05-25 00:00:00|   2009-05-23 17:48:09|               null|     MALE|38.0|     facebook|          0|      en|              seo|            google|              untracked|       Web|      Mac Desktop|       Chrome|                NDF|\n",
      "|4ft3gnwmtx| 2010-09-28 00:00:00|   2009-06-09 23:12:47|2010-08-02 00:00:00|   FEMALE|56.0|        basic|          3|      en|           direct|            direct|              untracked|       Web|  Windows Desktop|           IE|                 US|\n",
      "|bjjt8pjhuk| 2011-12-05 00:00:00|   2009-10-31 06:01:29|2012-09-08 00:00:00|   FEMALE|42.0|     facebook|          0|      en|           direct|            direct|              untracked|       Web|      Mac Desktop|      Firefox|              other|\n",
      "|87mebub9p4| 2010-09-14 00:00:00|   2009-12-08 06:11:05|2010-02-18 00:00:00|-unknown-|41.0|        basic|          0|      en|           direct|            direct|              untracked|       Web|      Mac Desktop|       Chrome|                 US|\n",
      "+----------+--------------------+----------------------+-------------------+---------+----+-------------+-----------+--------+-----------------+------------------+-----------------------+----------+-----------------+-------------+-------------------+\n",
      "only showing top 5 rows\n",
      "\n"
     ]
    }
   ],
   "source": [
    "# define dataset schema\n",
    "schema_df_train = '''\n",
    "    id STRING,\n",
    "    date_account_created TIMESTAMP,\n",
    "    timestamp_first_active STRING,\n",
    "    date_first_booking STRING,\n",
    "    gender STRING,\n",
    "    age FLOAT,\n",
    "    signup_method STRING,\n",
    "    signup_flow INTEGER,\n",
    "    language STRING,\n",
    "    affiliate_channel STRING,\n",
    "    affiliate_provider STRING,\n",
    "    first_affiliate_tracked STRING,\n",
    "    signup_app STRING,\n",
    "    first_device_type STRING,\n",
    "    first_browser STRING,\n",
    "    country_destination STRING\n",
    "'''\n",
    "\n",
    "# read dataset\n",
    "df_train = spark.read.csv(path='../data/raw/train_users_2.csv', schema=schema_df_train, header=True)\n",
    "\n",
    "# format date columns\n",
    "df_train = df_train.withColumn('timestamp_first_active', to_timestamp('timestamp_first_active', 'yyyyMMddHHmmss'))\n",
    "df_train = df_train.withColumn('date_first_booking', to_timestamp('date_first_booking', 'yyyy-MM-dd'))\n",
    "\n",
    "# check it out\n",
    "df_train.show(5)"
   ]
  },
  {
   "cell_type": "code",
   "execution_count": 7,
   "id": "fcbbc65b",
   "metadata": {},
   "outputs": [
    {
     "name": "stdout",
     "output_type": "stream",
     "text": [
      "user_id,action,action_type,action_detail,device_type,secs_elapsed\r\n",
      "d1mm9tcy42,lookup,,,Windows Desktop,319.0\r\n",
      "d1mm9tcy42,search_results,click,view_search_results,Windows Desktop,67753.0\r\n",
      "d1mm9tcy42,lookup,,,Windows Desktop,301.0\r\n",
      "d1mm9tcy42,search_results,click,view_search_results,Windows Desktop,22141.0\r\n",
      "d1mm9tcy42,lookup,,,Windows Desktop,435.0\r\n",
      "d1mm9tcy42,search_results,click,view_search_results,Windows Desktop,7703.0\r\n",
      "d1mm9tcy42,lookup,,,Windows Desktop,115.0\r\n",
      "d1mm9tcy42,personalize,data,wishlist_content_update,Windows Desktop,831.0\r\n",
      "d1mm9tcy42,index,view,view_search_results,Windows Desktop,20842.0\r\n"
     ]
    }
   ],
   "source": [
    "!head -n 10 ../data/raw/sessions.csv"
   ]
  },
  {
   "cell_type": "code",
   "execution_count": 8,
   "id": "8e2100f8",
   "metadata": {},
   "outputs": [
    {
     "name": "stdout",
     "output_type": "stream",
     "text": [
      "+----------+--------------+-----------+-------------------+---------------+------------+\n",
      "|   user_id|        action|action_type|      action_detail|    device_type|secs_elapsed|\n",
      "+----------+--------------+-----------+-------------------+---------------+------------+\n",
      "|d1mm9tcy42|        lookup|       null|               null|Windows Desktop|       319.0|\n",
      "|d1mm9tcy42|search_results|      click|view_search_results|Windows Desktop|     67753.0|\n",
      "|d1mm9tcy42|        lookup|       null|               null|Windows Desktop|       301.0|\n",
      "|d1mm9tcy42|search_results|      click|view_search_results|Windows Desktop|     22141.0|\n",
      "|d1mm9tcy42|        lookup|       null|               null|Windows Desktop|       435.0|\n",
      "+----------+--------------+-----------+-------------------+---------------+------------+\n",
      "only showing top 5 rows\n",
      "\n"
     ]
    }
   ],
   "source": [
    "# define dataset schema\n",
    "schema_df_sessions = StructType([\n",
    "  StructField('user_id', StringType(), True),\n",
    "  StructField('action', StringType(), True),\n",
    "  StructField('action_type', StringType(), True),\n",
    "  StructField('action_detail', StringType(), True),\n",
    "  StructField('device_type', StringType(), True),\n",
    "  StructField('secs_elapsed', FloatType(), True)\n",
    "])\n",
    "\n",
    "# read dataset\n",
    "df_sessions = spark.read.csv(path='../data/raw/sessions.csv', schema=schema_df_sessions, header=True)\n",
    "\n",
    "# check it out\n",
    "df_sessions.show(5)"
   ]
  },
  {
   "cell_type": "code",
   "execution_count": 9,
   "id": "d97c4996",
   "metadata": {},
   "outputs": [
    {
     "name": "stderr",
     "output_type": "stream",
     "text": [
      "[Stage 3:==========================================>              (12 + 4) / 16]\r"
     ]
    },
    {
     "name": "stdout",
     "output_type": "stream",
     "text": [
      "+----------+--------------------+----------------------+-------------------+---------+----+-------------+-----------+--------+-----------------+------------------+-----------------------+----------+-----------------+-------------+-------------------+--------------------+-----------+--------------------+---------------+------------+\n",
      "|        id|date_account_created|timestamp_first_active| date_first_booking|   gender| age|signup_method|signup_flow|language|affiliate_channel|affiliate_provider|first_affiliate_tracked|signup_app|first_device_type|first_browser|country_destination|              action|action_type|       action_detail|    device_type|secs_elapsed|\n",
      "+----------+--------------------+----------------------+-------------------+---------+----+-------------+-----------+--------+-----------------+------------------+-----------------------+----------+-----------------+-------------+-------------------+--------------------+-----------+--------------------+---------------+------------+\n",
      "|00b9hfwaak| 2014-06-05 00:00:00|   2014-06-05 16:38:16|2014-06-05 00:00:00|-unknown-|null|        basic|          0|      zh|              seo|            google|                 linked|       Web|  Windows Desktop|       Chrome|                 US|                show|       null|                null|Windows Desktop|        64.0|\n",
      "|00b9hfwaak| 2014-06-05 00:00:00|   2014-06-05 16:38:16|2014-06-05 00:00:00|-unknown-|null|        basic|          0|      zh|              seo|            google|                 linked|       Web|  Windows Desktop|       Chrome|                 US|    similar_listings|       data|    similar_listings|Windows Desktop|        15.0|\n",
      "|00b9hfwaak| 2014-06-05 00:00:00|   2014-06-05 16:38:16|2014-06-05 00:00:00|-unknown-|null|        basic|          0|      zh|              seo|            google|                 linked|       Web|  Windows Desktop|       Chrome|                 US|ajax_refresh_subt...|      click|change_trip_chara...|Windows Desktop|       448.0|\n",
      "+----------+--------------------+----------------------+-------------------+---------+----+-------------+-----------+--------+-----------------+------------------+-----------------------+----------+-----------------+-------------+-------------------+--------------------+-----------+--------------------+---------------+------------+\n",
      "only showing top 3 rows\n",
      "\n"
     ]
    },
    {
     "name": "stderr",
     "output_type": "stream",
     "text": [
      "\r",
      "                                                                                \r"
     ]
    }
   ],
   "source": [
    "# join datasets\n",
    "df = df_train.join(df_sessions, on=[df_train.id == df_sessions.user_id], how='inner')\n",
    "\n",
    "# drop repetead column\n",
    "df = df.drop('user_id')\n",
    "\n",
    "# check it out\n",
    "df.show(3)"
   ]
  },
  {
   "cell_type": "code",
   "execution_count": 10,
   "id": "b6920c50",
   "metadata": {},
   "outputs": [
    {
     "name": "stdout",
     "output_type": "stream",
     "text": [
      "root\n",
      " |-- id: string (nullable = true)\n",
      " |-- date_account_created: timestamp (nullable = true)\n",
      " |-- timestamp_first_active: timestamp (nullable = true)\n",
      " |-- date_first_booking: timestamp (nullable = true)\n",
      " |-- gender: string (nullable = true)\n",
      " |-- age: float (nullable = true)\n",
      " |-- signup_method: string (nullable = true)\n",
      " |-- signup_flow: integer (nullable = true)\n",
      " |-- language: string (nullable = true)\n",
      " |-- affiliate_channel: string (nullable = true)\n",
      " |-- affiliate_provider: string (nullable = true)\n",
      " |-- first_affiliate_tracked: string (nullable = true)\n",
      " |-- signup_app: string (nullable = true)\n",
      " |-- first_device_type: string (nullable = true)\n",
      " |-- first_browser: string (nullable = true)\n",
      " |-- country_destination: string (nullable = true)\n",
      " |-- action: string (nullable = true)\n",
      " |-- action_type: string (nullable = true)\n",
      " |-- action_detail: string (nullable = true)\n",
      " |-- device_type: string (nullable = true)\n",
      " |-- secs_elapsed: float (nullable = true)\n",
      "\n"
     ]
    }
   ],
   "source": [
    "df.printSchema()"
   ]
  },
  {
   "cell_type": "markdown",
   "id": "bbfeb9e6",
   "metadata": {},
   "source": [
    "If there is a folder called interim, delete it and split the data, otherwise, just split the data."
   ]
  },
  {
   "cell_type": "code",
   "execution_count": 11,
   "id": "48cd6f07",
   "metadata": {},
   "outputs": [
    {
     "name": "stderr",
     "output_type": "stream",
     "text": [
      "[Stage 15:>                                                       (0 + 16) / 16]\r"
     ]
    },
    {
     "name": "stdout",
     "output_type": "stream",
     "text": [
      "17\r\n"
     ]
    },
    {
     "name": "stderr",
     "output_type": "stream",
     "text": [
      "\r",
      "                                                                                \r"
     ]
    }
   ],
   "source": [
    "PATH_INTERIM = '../data/interim/'\n",
    "\n",
    "if os.path.isdir(PATH_INTERIM):\n",
    "    try:\n",
    "        # delete interim folder\n",
    "        os.system(f'rm -rf {PATH_INTERIM}')\n",
    "    except OSError as Error:\n",
    "        print(Error)\n",
    "    else:\n",
    "        # split dataset into 16 pieces to leverage spark's engine\n",
    "        df.repartition(16).write.parquet(PATH_INTERIM)\n",
    "        \n",
    "        # check it out (one of the files is a success message)\n",
    "        !ls -lx  ../data/interim | wc -l\n",
    "else:\n",
    "    df.repartition(16).write.parquet(PATH_INTERIM)\n",
    "    !ls -lx  ../data/interim | wc -l"
   ]
  },
  {
   "cell_type": "code",
   "execution_count": 12,
   "id": "04b11b32",
   "metadata": {},
   "outputs": [
    {
     "name": "stderr",
     "output_type": "stream",
     "text": [
      "                                                                                \r"
     ]
    }
   ],
   "source": [
    "# read splited data\n",
    "df = spark.read.parquet(PATH_INTERIM)"
   ]
  },
  {
   "cell_type": "markdown",
   "id": "c2c85c60",
   "metadata": {},
   "source": [
    "# 1. Data cleansing and description"
   ]
  },
  {
   "cell_type": "markdown",
   "id": "c43a78d0",
   "metadata": {},
   "source": [
    "## Index"
   ]
  },
  {
   "cell_type": "markdown",
   "id": "4955b901",
   "metadata": {},
   "source": [
    "Column | Meaning\n",
    "---|--------\n",
    "id | user id\n",
    "date_account_created | the date of account creation\n",
    "timestamp_first_active | timestamp of the first activity, note that it can be earlier than date_account_created or date_first_booking because a user can search before signing up\n",
    "date_first_booking | date of first booking\n",
    "gender |\n",
    "age |\n",
    "signup_method |\n",
    "signup_flow | the page a user came to signup up from\n",
    "language | international language preference\n",
    "affiliate_channel | what kind of paid marketing\n",
    "affiliate_provider | where the marketing is e.g. google, craigslist, other\n",
    "first_affiliate_tracked | whats the first marketing the user interacted with before the signing up\n",
    "signup_app |\n",
    "first_device_type |\n",
    "first_browser |\n",
    "country_destination | this is the target variable you are to predict\n",
    "action |\n",
    "action_type |\n",
    "action_detail |\n",
    "device_type |\n",
    "secs_elapsed |"
   ]
  },
  {
   "cell_type": "markdown",
   "id": "db8f2ca5",
   "metadata": {},
   "source": [
    "## 1.1. Data dimensions"
   ]
  },
  {
   "cell_type": "code",
   "execution_count": 17,
   "id": "eed57be8",
   "metadata": {},
   "outputs": [
    {
     "name": "stdout",
     "output_type": "stream",
     "text": [
      "Number of rows: 5537957\n",
      "Number of columns: 21\n"
     ]
    }
   ],
   "source": [
    "# check dataset shape\n",
    "print(f'Number of rows: {df.count()}\\n', \\\n",
    "      + f'Number of columns: {len(df.columns)}')"
   ]
  },
  {
   "cell_type": "markdown",
   "id": "0ecb5f4a",
   "metadata": {},
   "source": [
    "## 1.2. Duplicate data"
   ]
  },
  {
   "cell_type": "code",
   "execution_count": 18,
   "id": "7ea6f652",
   "metadata": {},
   "outputs": [
    {
     "name": "stderr",
     "output_type": "stream",
     "text": [
      "[Stage 46:====================================================>   (16 + 1) / 17]\r"
     ]
    },
    {
     "name": "stdout",
     "output_type": "stream",
     "text": [
      "There were 149501 duplicate records.\n"
     ]
    },
    {
     "name": "stderr",
     "output_type": "stream",
     "text": [
      "\r",
      "                                                                                \r"
     ]
    }
   ],
   "source": [
    "# check if there is duplicate data\n",
    "if df.count() > df.dropDuplicates().count():\n",
    "    print(f'There were {df.count() - df.dropDuplicates().count()} duplicate records.')\n",
    "    df = df.dropDuplicates()\n",
    "else:\n",
    "    print('There is not duplicate data.')"
   ]
  },
  {
   "cell_type": "markdown",
   "id": "9fd3aedd",
   "metadata": {},
   "source": [
    "## 1.3. Missing data"
   ]
  },
  {
   "cell_type": "code",
   "execution_count": 19,
   "id": "b6b4d9da",
   "metadata": {},
   "outputs": [
    {
     "name": "stderr",
     "output_type": "stream",
     "text": [
      "[Stage 52:================================>                       (10 + 7) / 17]\r"
     ]
    },
    {
     "name": "stdout",
     "output_type": "stream",
     "text": [
      "+---+--------------------+----------------------+------------------+------+-------+-------------+-----------+--------+-----------------+------------------+-----------------------+----------+-----------------+-------------+-------------------+------+-----------+-------------+-----------+------------+\n",
      "| id|date_account_created|timestamp_first_active|date_first_booking|gender|    age|signup_method|signup_flow|language|affiliate_channel|affiliate_provider|first_affiliate_tracked|signup_app|first_device_type|first_browser|country_destination|action|action_type|action_detail|device_type|secs_elapsed|\n",
      "+---+--------------------+----------------------+------------------+------+-------+-------------+-----------+--------+-----------------+------------------+-----------------------+----------+-----------------+-------------+-------------------+------+-----------+-------------+-----------+------------+\n",
      "|  0|                   0|                     0|           2976349|     0|2055829|            0|          0|       0|                0|                 0|                   1331|         0|                0|            0|                  0| 51294|     587088|       587088|          0|       73815|\n",
      "+---+--------------------+----------------------+------------------+------+-------+-------------+-----------+--------+-----------------+------------------+-----------------------+----------+-----------------+-------------+-------------------+------+-----------+-------------+-----------+------------+\n",
      "\n"
     ]
    },
    {
     "name": "stderr",
     "output_type": "stream",
     "text": [
      "\r",
      "                                                                                \r"
     ]
    }
   ],
   "source": [
    "# check if there is null values\n",
    "df.select([count(when(df[x].isNull(), x)).alias(x) for x in df.columns]).show()"
   ]
  },
  {
   "cell_type": "markdown",
   "id": "14b6043d",
   "metadata": {},
   "source": [
    "**Action**: Drop rows.\n",
    "\n",
    "**Reason**: Too many non-available values for a few rows.\n",
    "\n",
    "**Columns**:\n",
    "* secs_elapsed (73,815) \n",
    "* action (51,294)\n",
    "* first_affiliate_tracked (1,331)"
   ]
  },
  {
   "cell_type": "code",
   "execution_count": 20,
   "id": "70d5c8e2",
   "metadata": {},
   "outputs": [],
   "source": [
    "df = df.na.drop(how='any', subset=['secs_elapsed', 'action', 'first_affiliate_tracked'])"
   ]
  },
  {
   "cell_type": "markdown",
   "id": "0846b5be",
   "metadata": {},
   "source": [
    "**Action**: Drop columns.\n",
    "\n",
    "**Reason**: There's no data here, basically.\n",
    "\n",
    "**Columns**:\n",
    "* age (5,388,456)"
   ]
  },
  {
   "cell_type": "code",
   "execution_count": 22,
   "id": "5f3598bc",
   "metadata": {},
   "outputs": [],
   "source": [
    "df = df.drop('age')"
   ]
  },
  {
   "cell_type": "markdown",
   "id": "5330b90c",
   "metadata": {},
   "source": [
    "**Action**: Fill in.\n",
    "\n",
    "**Reason**: Already expected to not be available.\n",
    "\n",
    "**Columns**:\n",
    "* action_type (587,088)\n",
    "* action_detail (587,088)"
   ]
  },
  {
   "cell_type": "code",
   "execution_count": 23,
   "id": "4611df1a",
   "metadata": {},
   "outputs": [],
   "source": [
    "df = df.na.fill(value='-unknown-', subset=['action_type', 'action_detail'])"
   ]
  },
  {
   "cell_type": "markdown",
   "id": "ff0b9047",
   "metadata": {},
   "source": [
    "**Reason**: I noticed that people who don't have a first booking date set yet are those who haven't even booked a place yet.\n",
    "\n",
    "**Columns**:\n",
    "* date_first_booking (2,976,349)"
   ]
  },
  {
   "cell_type": "code",
   "execution_count": 24,
   "id": "be5896b7",
   "metadata": {},
   "outputs": [
    {
     "name": "stderr",
     "output_type": "stream",
     "text": [
      "                                                                                \r"
     ]
    },
    {
     "data": {
      "text/plain": [
       "True"
      ]
     },
     "execution_count": 24,
     "metadata": {},
     "output_type": "execute_result"
    }
   ],
   "source": [
    "df.select(['date_first_booking']).where(df['date_first_booking'].isNull()).count() == \\\n",
    "df.select(['country_destination']).where(df['country_destination'] == 'NDF').count()"
   ]
  },
  {
   "cell_type": "code",
   "execution_count": 25,
   "id": "338d6bbe",
   "metadata": {},
   "outputs": [],
   "source": [
    "# get maximum first booking date\n",
    "max_date_first_booking = df.select('date_first_booking') \\\n",
    "                            .agg({'date_first_booking': 'max'}) \\\n",
    "                            .collect()[0][0].timestamp()\n",
    "\n",
    "# fill out\n",
    "df = df.na.fill(value=max_date_first_booking, subset=['date_first_booking'])"
   ]
  },
  {
   "cell_type": "code",
   "execution_count": 26,
   "id": "eb21d11a",
   "metadata": {},
   "outputs": [
    {
     "name": "stderr",
     "output_type": "stream",
     "text": [
      "[Stage 73:==========================>                              (8 + 9) / 17]\r"
     ]
    },
    {
     "name": "stdout",
     "output_type": "stream",
     "text": [
      "Number of rows: 5273754\n",
      "Number of columns: 20\n"
     ]
    },
    {
     "name": "stderr",
     "output_type": "stream",
     "text": [
      "\r",
      "[Stage 73:====================================================>   (16 + 1) / 17]\r",
      "\r",
      "                                                                                \r"
     ]
    }
   ],
   "source": [
    "# check number of rows and column after the treatment\n",
    "print(f'Number of rows: {df.count()}\\nNumber of columns: {len(df.columns)}')"
   ]
  },
  {
   "cell_type": "markdown",
   "id": "1c229cb4",
   "metadata": {},
   "source": [
    "## 1.4. Outliers"
   ]
  },
  {
   "cell_type": "markdown",
   "id": "c905bc6a",
   "metadata": {},
   "source": [
    "### Inter-Quartile Range (IQR) method"
   ]
  },
  {
   "cell_type": "code",
   "execution_count": 27,
   "id": "f207dbbd",
   "metadata": {},
   "outputs": [
    {
     "name": "stderr",
     "output_type": "stream",
     "text": [
      "                                                                                \r"
     ]
    },
    {
     "data": {
      "text/plain": [
       "{'secs_elapsed': {'q25': 279.0,\n",
       "  'q75': 8755.0,\n",
       "  'lower': -12435.0,\n",
       "  'upper': 21469.0}}"
      ]
     },
     "execution_count": 27,
     "metadata": {},
     "output_type": "execute_result"
    }
   ],
   "source": [
    "# calculate numeric columns bounds\n",
    "bounds = calculate_bounds(df)\n",
    "\n",
    "# check it out\n",
    "bounds"
   ]
  },
  {
   "cell_type": "code",
   "execution_count": 28,
   "id": "b6d92295",
   "metadata": {},
   "outputs": [
    {
     "name": "stderr",
     "output_type": "stream",
     "text": [
      "                                                                                \r"
     ]
    },
    {
     "data": {
      "text/plain": [
       "4484929"
      ]
     },
     "execution_count": 28,
     "metadata": {},
     "output_type": "execute_result"
    }
   ],
   "source": [
    "# remove outliers\n",
    "for c, dt in zip(df.columns, df.dtypes):\n",
    "    if dt[1] == 'float':\n",
    "        df = df.select('*') \\\n",
    "               .filter(col(c).between(bounds[c]['lower'], bounds[c]['upper']))\n",
    "\n",
    "# check new number of rows\n",
    "df.count()"
   ]
  },
  {
   "cell_type": "markdown",
   "id": "b467017d",
   "metadata": {},
   "source": [
    "## 1.5. Imbalance"
   ]
  },
  {
   "cell_type": "markdown",
   "id": "1e0c26a3",
   "metadata": {},
   "source": [
    "As it is a multi-class classification we have many possibly destinations to deal with, \n",
    "and in this case we also have a huge data imbalance."
   ]
  },
  {
   "cell_type": "code",
   "execution_count": 29,
   "id": "abdd1055",
   "metadata": {},
   "outputs": [
    {
     "name": "stderr",
     "output_type": "stream",
     "text": [
      "[Stage 95:=================================================>      (15 + 2) / 17]\r"
     ]
    },
    {
     "name": "stdout",
     "output_type": "stream",
     "text": [
      "+-------------------+-------+----------------+\n",
      "|country_destination|  count|count_percentage|\n",
      "+-------------------+-------+----------------+\n",
      "|                NDF|2486115|           55.43|\n",
      "|                 US|1349440|           30.09|\n",
      "|              other| 258863|            5.77|\n",
      "|                 FR| 117940|            2.63|\n",
      "|                 IT|  82213|            1.83|\n",
      "|                 ES|  54320|            1.21|\n",
      "|                 GB|  51931|            1.16|\n",
      "|                 CA|  32049|            0.71|\n",
      "|                 DE|  18985|            0.42|\n",
      "|                 NL|  18206|            0.41|\n",
      "|                 AU|   9794|            0.22|\n",
      "|                 PT|   5073|            0.11|\n",
      "+-------------------+-------+----------------+\n",
      "\n"
     ]
    },
    {
     "name": "stderr",
     "output_type": "stream",
     "text": [
      "\r",
      "                                                                                \r"
     ]
    }
   ],
   "source": [
    "# check data imbalance\n",
    "df.groupBy('country_destination') \\\n",
    "  .count() \\\n",
    "  .orderBy('count', ascending=False) \\\n",
    "  .withColumn('count_percentage', round(100*(col('count') / df.count()), 2)).show()"
   ]
  },
  {
   "cell_type": "markdown",
   "id": "81cdfad8",
   "metadata": {},
   "source": [
    "## 1.6. Descriptive statistics"
   ]
  },
  {
   "cell_type": "markdown",
   "id": "74d62f3a",
   "metadata": {},
   "source": [
    "### 1.6.1. Numerical attributes"
   ]
  },
  {
   "cell_type": "code",
   "execution_count": 30,
   "id": "2ded023c",
   "metadata": {},
   "outputs": [
    {
     "name": "stderr",
     "output_type": "stream",
     "text": [
      "[Stage 104:>                                                        (0 + 1) / 1]\r"
     ]
    },
    {
     "name": "stdout",
     "output_type": "stream",
     "text": [
      "+-------+-----------------+------------------+\n",
      "|summary|      signup_flow|      secs_elapsed|\n",
      "+-------+-----------------+------------------+\n",
      "|  count|          4484929|           4484929|\n",
      "|   mean| 5.50373350391946|2926.8514027758297|\n",
      "| stddev|9.824296513960798| 4655.576726729597|\n",
      "|    min|                0|               0.0|\n",
      "|    25%|                0|             182.0|\n",
      "|    50%|                0|             845.0|\n",
      "|    75%|               12|            3080.0|\n",
      "|    max|               25|           21469.0|\n",
      "+-------+-----------------+------------------+\n",
      "\n"
     ]
    },
    {
     "name": "stderr",
     "output_type": "stream",
     "text": [
      "\r",
      "                                                                                \r"
     ]
    }
   ],
   "source": [
    "# describe numerical columns\n",
    "df.select(['signup_flow', 'secs_elapsed']).summary().show()"
   ]
  },
  {
   "cell_type": "code",
   "execution_count": 31,
   "id": "43465229",
   "metadata": {},
   "outputs": [
    {
     "data": {
      "text/plain": [
       "5.963611111111111"
      ]
     },
     "execution_count": 31,
     "metadata": {},
     "output_type": "execute_result"
    }
   ],
   "source": [
    "((21469 / 60)/ 60)"
   ]
  },
  {
   "cell_type": "code",
   "execution_count": 32,
   "id": "df0b47be",
   "metadata": {},
   "outputs": [
    {
     "name": "stderr",
     "output_type": "stream",
     "text": [
      "                                                                                \r"
     ]
    },
    {
     "name": "stdout",
     "output_type": "stream",
     "text": [
      "+--------------------+--------------------+---------------------+---------------------+\n",
      "|signup_flow_kurtosis|signup_flow_skewness|secs_elapsed_kurtosis|secs_elapsed_skewness|\n",
      "+--------------------+--------------------+---------------------+---------------------+\n",
      "|-0.14639712784852232|  1.3165766326768453|   3.8406743105607104|    2.134835842785242|\n",
      "+--------------------+--------------------+---------------------+---------------------+\n",
      "\n"
     ]
    }
   ],
   "source": [
    "# plus calculate kurtosis and skewness\n",
    "df.select(kurtosis('signup_flow').alias('signup_flow_kurtosis'), \\\n",
    "          skewness('signup_flow').alias('signup_flow_skewness'), \\\n",
    "          kurtosis('secs_elapsed').alias('secs_elapsed_kurtosis'), \\\n",
    "          skewness('secs_elapsed').alias('secs_elapsed_skewness')).show()"
   ]
  },
  {
   "cell_type": "markdown",
   "id": "e30dcca7",
   "metadata": {},
   "source": [
    "### 1.6.2. Categorical attributes"
   ]
  },
  {
   "cell_type": "markdown",
   "id": "55e5dd4c",
   "metadata": {},
   "source": [
    "#### Unique values"
   ]
  },
  {
   "cell_type": "code",
   "execution_count": 33,
   "id": "acb09e1d",
   "metadata": {},
   "outputs": [
    {
     "name": "stderr",
     "output_type": "stream",
     "text": [
      "                                                                                \r"
     ]
    },
    {
     "name": "stdout",
     "output_type": "stream",
     "text": [
      "Column name: gender | Count: 4\n",
      "MALE\n",
      "OTHER\n",
      "-unknown-\n",
      "FEMALE\n",
      "\n",
      "\n",
      "Column name: signup_method | Count: 3\n",
      "basic\n",
      "facebook\n",
      "google\n",
      "\n",
      "\n",
      "Column name: language | Count: 24\n",
      "en\n",
      "pl\n",
      "pt\n",
      "ko\n",
      "cs\n",
      "tr\n",
      "de\n",
      "is\n",
      "es\n",
      "el\n",
      "it\n",
      "sv\n",
      "nl\n",
      "hu\n",
      "ca\n",
      "ru\n",
      "th\n",
      "no\n",
      "zh\n",
      "fr\n",
      "ja\n",
      "id\n",
      "da\n",
      "fi\n",
      "\n",
      "\n",
      "Column name: affiliate_channel | Count: 8\n",
      "api\n",
      "direct\n",
      "content\n",
      "remarketing\n",
      "other\n",
      "seo\n",
      "sem-non-brand\n",
      "sem-brand\n",
      "\n",
      "\n",
      "Column name: affiliate_provider | Count: 17\n",
      "craigslist\n",
      "bing\n",
      "gsp\n",
      "naver\n",
      "direct\n",
      "baidu\n",
      "other\n",
      "yandex\n",
      "padmapper\n",
      "vast\n",
      "email-marketing\n",
      "meetup\n",
      "daum\n",
      "facebook\n",
      "facebook-open-graph\n",
      "yahoo\n",
      "google\n",
      "\n",
      "\n",
      "Column name: first_affiliate_tracked | Count: 7\n",
      "tracked-other\n",
      "untracked\n",
      "marketing\n",
      "local ops\n",
      "linked\n",
      "omg\n",
      "product\n",
      "\n",
      "\n",
      "Column name: signup_app | Count: 4\n",
      "iOS\n",
      "Moweb\n",
      "Android\n",
      "Web\n",
      "\n",
      "\n",
      "Column name: first_device_type | Count: 9\n",
      "Android Tablet\n",
      "iPad\n",
      "iPhone\n",
      "Windows Desktop\n",
      "SmartPhone (Other)\n",
      "Android Phone\n",
      "Mac Desktop\n",
      "Other/Unknown\n",
      "Desktop (Other)\n",
      "\n",
      "\n",
      "Column name: first_browser | Count: 35\n",
      "Silk\n",
      "SiteKiosk\n",
      "Mobile Firefox\n",
      "Avant Browser\n",
      "CoolNovo\n",
      "RockMelt\n",
      "Sogou Explorer\n",
      "TheWorld Browser\n",
      "Yandex.Browser\n",
      "Firefox\n",
      "Mozilla\n",
      "Iron\n",
      "SeaMonkey\n",
      "AOL Explorer\n",
      "IceDragon\n",
      "Safari\n",
      "Chrome Mobile\n",
      "BlackBerry Browser\n",
      "Apple Mail\n",
      "Chromium\n",
      "Android Browser\n",
      "Mobile Safari\n",
      "Opera Mini\n",
      "-unknown-\n",
      "wOSBrowser\n",
      "Pale Moon\n",
      "IE\n",
      "IceWeasel\n",
      "Maxthon\n",
      "Chrome\n",
      "IE Mobile\n",
      "Opera\n",
      "TenFourFox\n",
      "Outlook 2007\n",
      "Googlebot\n",
      "\n",
      "\n",
      "Column name: country_destination | Count: 12\n",
      "NL\n",
      "PT\n",
      "AU\n",
      "CA\n",
      "GB\n",
      "other\n",
      "DE\n",
      "ES\n",
      "US\n",
      "FR\n",
      "NDF\n",
      "IT\n",
      "\n",
      "\n",
      "Column name: action | Count: 316\n",
      "uptodate\n",
      "phone_number_widget\n",
      "calendar_tab_inner2\n",
      "profile_pic\n",
      "countries\n",
      "ajax_google_translate_reviews\n",
      "show_code\n",
      "15\n",
      "travel_plans_current\n",
      "tell_a_friend\n",
      "edit_verification\n",
      "qt_reply_v2\n",
      "request_photography\n",
      "overview\n",
      "11\n",
      "requirements\n",
      "add_guests\n",
      "account\n",
      "top_destinations\n",
      "payment_methods\n",
      "add_note\n",
      "home_safety_terms\n",
      "glob\n",
      "upload\n",
      "show\n",
      "phone_verification\n",
      "at_checkpoint\n",
      "webcam_upload\n",
      "forgot_password\n",
      "invalid_action\n",
      "recommendations\n",
      "ajax_payout_options_by_country\n",
      "decision_tree\n",
      "settings\n",
      "onenight\n",
      "new\n",
      "phone_verification_phone_number_removed\n",
      "agree_terms_uncheck\n",
      "ajax_payout_edit\n",
      "popular\n",
      "clickthrough\n",
      "domains\n",
      "media_resources\n",
      "handle_vanity_url\n",
      "spoken_languages\n",
      "request_new_confirm_email\n",
      "tos_confirm\n",
      "transaction_history_paginated\n",
      "cancel\n",
      "apply_coupon_error_type\n",
      "mobile_landing_page\n",
      "coupon_field_focus\n",
      "concierge\n",
      "search_results\n",
      "reputation\n",
      "email_share\n",
      "payment_instruments\n",
      "set_user\n",
      "destroy\n",
      "submit_contact\n",
      "listing\n",
      "change_password\n",
      "track_page_view\n",
      "redirect\n",
      "slideshow\n",
      "payoneer_account_redirect\n",
      "ajax_statsd\n",
      "receipt\n",
      "friends\n",
      "travel_plans_previous\n",
      "verify\n",
      "google_importer\n",
      "change_availability\n",
      "mobile_oauth_callback\n",
      "login\n",
      "cancellation_policy_click\n",
      "country_options\n",
      "apply_code\n",
      "faq\n",
      "ajax_google_translate\n",
      "endpoint_error\n",
      "confirmation\n",
      "terms\n",
      "ajax_check_dates\n",
      "authenticate\n",
      "languages_multiselect\n",
      "rate\n",
      "ajax_google_translate_description\n",
      "payout_update\n",
      "login_modal\n",
      "views\n",
      "campaigns\n",
      "header_userpic\n",
      "dashboard\n",
      "relationship\n",
      "why_host\n",
      "jumio\n",
      "notifications\n",
      "signature\n",
      "read_policy_click\n",
      "create\n",
      "jumio_token\n",
      "edit\n",
      "popular_listing\n",
      "ajax_lwlb_contact\n",
      "ajax_image_upload\n",
      "apply_coupon_click_success\n",
      "deactivate\n",
      "cancellation_policies\n",
      "localization_settings\n",
      "update_friends_display\n",
      "requested\n",
      "kba_update\n",
      "photography\n",
      "other_hosting_reviews\n",
      "show_personalize\n",
      "faq_experiment_ids\n",
      "active\n",
      "change_currency\n",
      "agree_terms_check\n",
      "life\n",
      "apply_coupon_click\n",
      "multi_message\n",
      "update_notifications\n",
      "create_multiple\n",
      "hospitality\n",
      "toggle_starred_thread\n",
      "signup_login\n",
      "check\n",
      "itinerary\n",
      "populate_help_dropdown\n",
      "airbnb_picks\n",
      "trust\n",
      "detect_fb_session\n",
      "unread\n",
      "identity\n",
      "this_hosting_reviews\n",
      "phone_verification_error\n",
      "status\n",
      "recent_reservations\n",
      "push_notification_callback\n",
      "signed_out_modal\n",
      "social\n",
      "ajax_get_referrals_amt\n",
      "salute\n",
      "index\n",
      "populate_from_facebook\n",
      "apply_reservation\n",
      "reviews_new\n",
      "my_listings\n",
      "manage_listing\n",
      "hosting_social_proof\n",
      "update_hide_from_search_engines\n",
      "multi\n",
      "founders\n",
      "review_page\n",
      "jumio_redirect\n",
      "city_count\n",
      "my\n",
      "contact_new\n",
      "complete_redirect\n",
      "click\n",
      "p4_refund_policy_terms\n",
      "transaction_history\n",
      "references\n",
      "signup_modal\n",
      "facebook_auto_login\n",
      "terms_and_conditions\n",
      "guarantee\n",
      "departments\n",
      "collections\n",
      "confirm_email\n",
      "department\n",
      "phone_verification_number_sucessfully_submitted\n",
      "referrer_status\n",
      "similar_listings_v2\n",
      "patch\n",
      "about_us\n",
      "pending\n",
      "position\n",
      "phone_verification_number_submitted_for_call\n",
      "social-media\n",
      "recommended_listings\n",
      "social_connections\n",
      "update_cached\n",
      "update\n",
      "listings\n",
      "search\n",
      "other_hosting_reviews_first\n",
      "toggle_archived_thread\n",
      "issue\n",
      "home_safety_landing\n",
      "phone_verification_number_submitted_for_sms\n",
      "currencies\n",
      "p4_terms\n",
      "impressions\n",
      "ajax_get_results\n",
      "print_confirmation\n",
      "delete\n",
      "connect\n",
      "10\n",
      "apply_coupon_error\n",
      "change\n",
      "message_to_host_focus\n",
      "signup_weibo_referral\n",
      "ajax_refresh_subtotal\n",
      "open_graph_setting\n",
      "message_to_host_change\n",
      "email_itinerary_colorbox\n",
      "united-states\n",
      "office_location\n",
      "place_worth\n",
      "ajax_photo_widget_form_iframe\n",
      "host_summary\n",
      "sublets\n",
      "12\n",
      "available\n",
      "coupon_code_click\n",
      "phone_verification_success\n",
      "privacy\n",
      "clear_reservation\n",
      "remove_dashboard_alert\n",
      "reviews\n",
      "ajax_referral_banner_type\n",
      "ajax_referral_banner_experiment_type\n",
      "qt_with\n",
      "email_wishlist\n",
      "phone_verification_modal\n",
      "personalize\n",
      "similar_listings\n",
      "ask_question\n",
      "kba\n",
      "complete_status\n",
      "pay\n",
      "ajax_price_and_availability\n",
      "image_order\n",
      "qt2\n",
      "friends_new\n",
      "lookup\n",
      "complete\n",
      "supported\n",
      "payout_preferences\n",
      "set_password\n",
      "unavailabilities\n",
      "faq_category\n",
      "pending_tickets\n",
      "widget\n",
      "authorize\n",
      "guest_booked_elsewhere\n",
      "callback\n",
      "disaster_action\n",
      "guest_billing_receipt\n",
      "update_reservation_requirements\n",
      "reservation\n",
      "badge\n",
      "multi_message_attributes\n",
      "acculynk_load_pin_pad\n",
      "ajax_worth\n",
      "create_paypal\n",
      "how_it_works\n",
      "become_user\n",
      "ajax_send_message\n",
      "ajax_ldp\n",
      "press_news\n",
      "hospitality_standards\n",
      "press_content\n",
      "recommend\n",
      "message\n",
      "press_release\n",
      "acculynk_bin_check_success\n",
      "weibo_signup_referral_finish\n",
      "localized\n",
      "respond\n",
      "apply\n",
      "host_2013\n",
      "has_profile_pic\n",
      "zendesk_login_jwt\n",
      "open_hard_fallback_modal\n",
      "phone_verification_call_taking_too_long\n",
      "approve\n",
      "acculynk_session_obtained\n",
      "feed\n",
      "pricing\n",
      "locations\n",
      "travel\n",
      "tos_2014\n",
      "ajax_photo_widget\n",
      "new_session\n",
      "ajax_payout_split_edit\n",
      "track_activity\n",
      "nyan\n",
      "sync\n",
      "change_default_payout\n",
      "toggle_availability\n",
      "set_default\n",
      "update_country_of_residence\n",
      "envoy_form\n",
      "sldf\n",
      "views_campaign_rules\n",
      "airbrb\n",
      "payout_delete\n",
      "satisfy\n",
      "questions\n",
      "signup_weibo\n",
      "use_mobile_site\n",
      "desks\n",
      "new_host\n",
      "maybe_information\n",
      "acculynk_pin_pad_inactive\n",
      "photography_update\n",
      "locale_from_host\n",
      "payoneer_signup_complete\n",
      "friend_listing\n",
      "views_campaign\n",
      "rentals\n",
      "create_airbnb\n",
      "\n",
      "\n",
      "Column name: action_type | Count: 8\n",
      "booking_request\n",
      "submit\n",
      "view\n",
      "data\n",
      "click\n",
      "partner_callback\n",
      "-unknown-\n",
      "message_post\n",
      "\n",
      "\n",
      "Column name: action_detail | Count: 126\n",
      "oauth_login\n",
      "login_page\n",
      "account_transaction_history\n",
      "list_your_space\n",
      "friends_wishlists\n",
      "user_listings\n",
      "post_checkout_action\n",
      "at_checkpoint\n",
      "send_message\n",
      "forgot_password\n",
      "user_tax_forms\n",
      "request_new_confirm_email\n",
      "wishlist_content_update\n",
      "coupon_field_focus\n",
      "user_languages\n",
      "view_listing\n",
      "listing_reviews\n",
      "payment_instruments\n",
      "change_password\n",
      "wishlist\n",
      "signup\n",
      "listing_reviews_page\n",
      "user_social_connections\n",
      "change_availability\n",
      "login\n",
      "listing_descriptions\n",
      "cancellation_policy_click\n",
      "airbnb_picks_wishlists\n",
      "edit_profile\n",
      "message_thread\n",
      "unavailable_dates\n",
      "user_profile_content_update\n",
      "login_modal\n",
      "header_userpic\n",
      "update_user\n",
      "admin_templates\n",
      "dashboard\n",
      "apply_coupon\n",
      "notifications\n",
      "read_policy_click\n",
      "translate_listing_reviews\n",
      "popular_wishlists\n",
      "listing_recommendations\n",
      "apply_coupon_click_success\n",
      "cancellation_policies\n",
      "signup_login_page\n",
      "oauth_response\n",
      "instant_book\n",
      "email_wishlist_button\n",
      "host_home\n",
      "create_phone_numbers\n",
      "apply_coupon_click\n",
      "your_listings\n",
      "toggle_starred_thread\n",
      "user_reviews\n",
      "p5\n",
      "previous_trips\n",
      "guest_itinerary\n",
      "set_password_page\n",
      "user_profile\n",
      "delete_listing\n",
      "account_payout_preferences\n",
      "create_alteration_request\n",
      "user_friend_recommendations\n",
      "host_guarantee\n",
      "contact_host\n",
      "translations\n",
      "your_reservations\n",
      "alteration_request\n",
      "manage_listing\n",
      "guest_cancellation\n",
      "change_contact_host_dates\n",
      "trip_availability\n",
      "lookup_message_thread\n",
      "p4_refund_policy_terms\n",
      "account_notification_settings\n",
      "user_wishlists\n",
      "signup_modal\n",
      "delete_phone_numbers\n",
      "alteration_field\n",
      "message_inbox\n",
      "reservations\n",
      "confirm_email\n",
      "terms_and_privacy\n",
      "homepage\n",
      "pending\n",
      "your_trips\n",
      "create_listing\n",
      "change_trip_characteristics\n",
      "-unknown-\n",
      "toggle_archived_thread\n",
      "profile_verifications\n",
      "wishlist_note\n",
      "p4_terms\n",
      "book_it\n",
      "apply_coupon_error\n",
      "view_search_results\n",
      "account_privacy_settings\n",
      "message_to_host_focus\n",
      "guest_receipt\n",
      "message_to_host_change\n",
      "place_worth\n",
      "request_to_book\n",
      "message_post\n",
      "confirm_email_link\n",
      "p1\n",
      "coupon_code_click\n",
      "phone_verification_success\n",
      "p3\n",
      "remove_dashboard_alert\n",
      "update_listing\n",
      "update_user_profile\n",
      "p4\n",
      "email_wishlist\n",
      "similar_listings\n",
      "create_user\n",
      "change_or_alter\n",
      "complete_booking\n",
      "profile_references\n",
      "update_listing_description\n",
      "set_password\n",
      "calculate_worth\n",
      "respond_to_alteration_request\n",
      "host_respond\n",
      "tos_2014\n",
      "delete_listing_description\n",
      "\n",
      "\n",
      "Column name: device_type | Count: 14\n",
      "iPodtouch\n",
      "iPhone\n",
      "Windows Desktop\n",
      "Linux Desktop\n",
      "Android Phone\n",
      "Mac Desktop\n",
      "Android App Unknown Phone/Tablet\n",
      "iPad Tablet\n",
      "Blackberry\n",
      "Windows Phone\n",
      "-unknown-\n",
      "Tablet\n",
      "Chromebook\n",
      "Opera Phone\n",
      "\n",
      "\n"
     ]
    }
   ],
   "source": [
    "# compute all unique values of each string column\n",
    "unique_values = {col: df.select(col).distinct().collect()\n",
    "                 for col, dt in zip(df.columns, df.dtypes) if dt[1] == 'string' and dt[0] != 'id'}\n",
    "\n",
    "# check it out\n",
    "for key, _ in unique_values.items():\n",
    "    # print the column name and how many layers it has\n",
    "    print(f'Column name: {key} | Count: {len(unique_values[key])}')\n",
    "    \n",
    "    # print layers\n",
    "    for value in unique_values[key]:\n",
    "        print(value.asDict()[key])\n",
    "    print('\\n')"
   ]
  },
  {
   "cell_type": "markdown",
   "id": "a5e71f79",
   "metadata": {},
   "source": [
    "# 2. Feature engineering"
   ]
  },
  {
   "cell_type": "markdown",
   "id": "b4866a1d",
   "metadata": {},
   "source": [
    "## 2.1. Phenomenon modeling"
   ]
  },
  {
   "cell_type": "code",
   "execution_count": 34,
   "id": "809b9217",
   "metadata": {},
   "outputs": [],
   "source": [
    "# date_account_created\n",
    "df = df.withColumn('year_account_created', date_format(df.date_account_created, 'yyyy')) \\\n",
    "       .withColumn('month_account_created', date_format(df.date_account_created, 'MM')) \\\n",
    "       .withColumn('week_of_year_account_created', weekofyear(df.date_account_created)) \\\n",
    "       .withColumn('day_of_week_account_created', dayofweek(df.date_account_created)) \\\n",
    "       .withColumn('day_account_created', date_format(df.date_account_created, 'dd'))"
   ]
  },
  {
   "cell_type": "code",
   "execution_count": 35,
   "id": "fed0137a",
   "metadata": {},
   "outputs": [],
   "source": [
    "# timestamp_first_active\n",
    "df = df.withColumn('timestamp_first_active_year', date_format(df.timestamp_first_active, 'yyyy')) \\\n",
    "       .withColumn('timestamp_first_active_month', date_format(df.timestamp_first_active, 'MM')) \\\n",
    "       .withColumn('timestamp_first_active_week_of_year', weekofyear(df.timestamp_first_active)) \\\n",
    "       .withColumn('timestamp_first_active_day_of_week', dayofweek(df.timestamp_first_active)) \\\n",
    "       .withColumn('timestamp_first_active_day', date_format(df.timestamp_first_active, 'dd'))"
   ]
  },
  {
   "cell_type": "code",
   "execution_count": 36,
   "id": "779038ad",
   "metadata": {},
   "outputs": [],
   "source": [
    "# date_first_booking\n",
    "df = df.withColumn('year_first_booking', date_format(df.date_first_booking, 'yyyy')) \\\n",
    "       .withColumn('month_first_booking', date_format(df.date_first_booking, 'MM')) \\\n",
    "       .withColumn('week_of_year_first_booking', weekofyear(df.date_first_booking)) \\\n",
    "       .withColumn('day_of_week_first_booking', dayofweek(df.date_first_booking)) \\\n",
    "       .withColumn('day_first_booking', date_format(df.date_first_booking, 'dd'))"
   ]
  },
  {
   "cell_type": "code",
   "execution_count": 37,
   "id": "0d53a009",
   "metadata": {},
   "outputs": [],
   "source": [
    "# drop source columns\n",
    "df = df.drop('date_account_created', 'timestamp_first_active', 'date_first_booking')"
   ]
  },
  {
   "cell_type": "code",
   "execution_count": 38,
   "id": "2f27bfea",
   "metadata": {},
   "outputs": [],
   "source": [
    "# secs_elapsed_times_singup_flow\n",
    "df = df.withColumn('secs_elapsed_times_singup_flow', df.secs_elapsed * df.signup_flow)"
   ]
  },
  {
   "cell_type": "markdown",
   "id": "43af9188",
   "metadata": {},
   "source": [
    "# 3. Exploratory data analysis"
   ]
  },
  {
   "cell_type": "markdown",
   "id": "721c0781",
   "metadata": {},
   "source": [
    "## 3.1. Bivariate analysis"
   ]
  },
  {
   "cell_type": "markdown",
   "id": "ceb05e6b",
   "metadata": {},
   "source": [
    "### Problem mind map"
   ]
  },
  {
   "cell_type": "code",
   "execution_count": null,
   "id": "4102eaf2",
   "metadata": {},
   "outputs": [],
   "source": [
    "Image('../reports/figures/mind-map')"
   ]
  },
  {
   "cell_type": "markdown",
   "id": "5a4f88a9",
   "metadata": {},
   "source": [
    "### Hypotheses list"
   ]
  },
  {
   "cell_type": "markdown",
   "id": "773e43d7",
   "metadata": {},
   "source": [
    "### 3.1.1. Hypothesis 01"
   ]
  },
  {
   "cell_type": "markdown",
   "id": "ea03b86c",
   "metadata": {},
   "source": [
    "## 3.2. Multivariate analysis"
   ]
  },
  {
   "cell_type": "markdown",
   "id": "febe24db",
   "metadata": {},
   "source": [
    "### 3.2.1. Numerical variables"
   ]
  },
  {
   "cell_type": "markdown",
   "id": "5add67f1",
   "metadata": {},
   "source": [
    "### 3.2.2. Categorical variables"
   ]
  }
 ],
 "metadata": {
  "kernelspec": {
   "display_name": "Python 3 (ipykernel)",
   "language": "python",
   "name": "python3"
  },
  "language_info": {
   "codemirror_mode": {
    "name": "ipython",
    "version": 3
   },
   "file_extension": ".py",
   "mimetype": "text/x-python",
   "name": "python",
   "nbconvert_exporter": "python",
   "pygments_lexer": "ipython3",
   "version": "3.10.4"
  }
 },
 "nbformat": 4,
 "nbformat_minor": 5
}
